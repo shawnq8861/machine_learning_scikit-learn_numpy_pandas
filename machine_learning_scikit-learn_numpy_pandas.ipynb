{
 "cells": [
  {
   "cell_type": "code",
   "execution_count": 8,
   "metadata": {
    "scrolled": true
   },
   "outputs": [
    {
     "name": "stdout",
     "output_type": "stream",
     "text": [
      "0 1\n",
      "1 3\n",
      "2 8\n",
      "3 13\n",
      "4 22\n",
      "0.0\n",
      "1.192469740237824\n",
      "2.49902114622793\n",
      "4.173695163073694\n",
      "5.10115677322959\n",
      "5.679839728152664\n",
      "7.272803754355902\n",
      "9.492666798996753\n",
      "11.72297895509138\n",
      "12.24601725228704\n"
     ]
    },
    {
     "data": {
      "image/png": "[encoded data removed]",
      "text/plain": [
       "<Figure size 432x288 with 1 Axes>"
      ]
     },
     "metadata": {
      "needs_background": "light"
     },
     "output_type": "display_data"
    },
    {
     "name": "stdout",
     "output_type": "stream",
     "text": [
      "[[2.48584947]]\n",
      "2.485849466236537\n",
      "[4.09006591]\n",
      "4.0900659076905725\n",
      "[0, 1, 2, 3, 4, 5, 6, 7, 8, 9, 10]\n",
      "[4.0900659076905725, 6.57591537392711, 9.061764840163647, 11.547614306400183, 14.03346377263672, 16.51931323887326, 19.005162705109793, 21.49101217134633, 23.976861637582868, 26.462711103819405, 28.948560570055943]\n"
     ]
    },
    {
     "data": {
      "image/png": "[encoded data removed]",
      "text/plain": [
       "<Figure size 432x288 with 1 Axes>"
      ]
     },
     "metadata": {
      "needs_background": "light"
     },
     "output_type": "display_data"
    }
   ],
   "source": [
    "import pandas as pd\n",
    "import numpy as np\n",
    "from random import uniform\n",
    "from random import randrange\n",
    "from matplotlib import pyplot as plt\n",
    "from sklearn.linear_model import LinearRegression\n",
    "\n",
    "int_list = [1, 3, 8, 13, 22]\n",
    "for i, num in enumerate(int_list):\n",
    "    print(i, num)\n",
    "pd_ser = pd.Series(int_list)\n",
    "pd_ser.to_csv('test_list.csv')\n",
    "pd_ser.values\n",
    "for val in range(10):\n",
    "    print(val + val * uniform(.1, .5))\n",
    "#\n",
    "# create linear model to generate mock data\n",
    "#\n",
    "a = 2.47\n",
    "b = 4.09\n",
    "y = []\n",
    "x = []\n",
    "for num in range(50):\n",
    "    noise = uniform(-1.0, 1.0)\n",
    "    tempX = uniform(1, 10)\n",
    "    x.append(tempX)\n",
    "    y.append(a*tempX + b + noise)\n",
    "plt.scatter(x, y, color='black')\n",
    "plt.show()\n",
    "#\n",
    "# train a linear regression model\n",
    "X = 10 * np.random.rand(50, 1)\n",
    "Y = a * X + (b + np.random.randn(50, 1))\n",
    "lin_reg_mod = LinearRegression()\n",
    "lin_reg_mod.fit(X, Y)\n",
    "a_train = lin_reg_mod.coef_\n",
    "b_train = lin_reg_mod.intercept_\n",
    "print(a_train)\n",
    "print(a_train[0,0])\n",
    "print(b_train)\n",
    "print(b_train[0])\n",
    "plt.plot(X,Y,'b.')\n",
    "x_line = []\n",
    "y_line = []\n",
    "for val in range(11):\n",
    "    x_line.append(val)\n",
    "    y_line.append(a_train[0,0]*val + b_train[0])\n",
    "print(x_line)\n",
    "print(y_line)\n",
    "plt.plot(x_line, y_line, '-r')\n",
    "plt.show()\n",
    "\n",
    "\n"
   ]
  },
  {
   "cell_type": "code",
   "execution_count": null,
   "metadata": {},
   "outputs": [],
   "source": []
  }
 ],
 "metadata": {
  "kernelspec": {
   "display_name": "Python 3",
   "language": "python",
   "name": "python3"
  },
  "language_info": {
   "codemirror_mode": {
    "name": "ipython",
    "version": 3
   },
   "file_extension": ".py",
   "mimetype": "text/x-python",
   "name": "python",
   "nbconvert_exporter": "python",
   "pygments_lexer": "ipython3",
   "version": "3.6.9"
  }
 },
 "nbformat": 4,
 "nbformat_minor": 4
}
