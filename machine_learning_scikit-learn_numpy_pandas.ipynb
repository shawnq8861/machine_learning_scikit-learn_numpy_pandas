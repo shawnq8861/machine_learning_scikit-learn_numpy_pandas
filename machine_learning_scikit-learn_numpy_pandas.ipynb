{
 "cells": [
  {
   "cell_type": "code",
   "execution_count": 17,
   "metadata": {
    "scrolled": true
   },
   "outputs": [
    {
     "name": "stdout",
     "output_type": "stream",
     "text": [
      "0 1\n",
      "1 3\n",
      "2 8\n",
      "3 13\n",
      "4 22\n",
      "0.0\n",
      "1.4976229158456684\n",
      "2.868079043099457\n",
      "4.129915456455847\n",
      "4.701034500806379\n",
      "7.080101429220255\n",
      "8.512092613253847\n",
      "9.653502815316774\n",
      "9.516554555190972\n",
      "11.25869180265971\n"
     ]
    },
    {
     "data": {
      "image/png": "[encoded data removed]",
      "text/plain": [
       "<Figure size 432x288 with 1 Axes>"
      ]
     },
     "metadata": {
      "needs_background": "light"
     },
     "output_type": "display_data"
    },
    {
     "data": {
      "image/png": "[encoded data removed]",
      "text/plain": [
       "<Figure size 432x288 with 1 Axes>"
      ]
     },
     "metadata": {
      "needs_background": "light"
     },
     "output_type": "display_data"
    },
    {
     "name": "stdout",
     "output_type": "stream",
     "text": [
      "[3.73530758]\n",
      "[[2.49361978]]\n"
     ]
    }
   ],
   "source": [
    "import pandas as pd\n",
    "import numpy as np\n",
    "from random import uniform\n",
    "from random import randrange\n",
    "from matplotlib import pyplot as plt\n",
    "from sklearn.linear_model import LinearRegression\n",
    "\n",
    "int_list = [1, 3, 8, 13, 22]\n",
    "for i, num in enumerate(int_list):\n",
    "    print(i, num)\n",
    "pd_ser = pd.Series(int_list)\n",
    "pd_ser.to_csv('test_list.csv')\n",
    "pd_ser.values\n",
    "for val in range(10):\n",
    "    print(val + val * uniform(.1, .5))\n",
    "#\n",
    "# create linear model to generate mock data\n",
    "#\n",
    "a = 2.47\n",
    "b = 4.09\n",
    "y = []\n",
    "x = []\n",
    "for num in range(50):\n",
    "    noise = uniform(-1.0, 1.0)\n",
    "    tempX = uniform(1, 10)\n",
    "    x.append(tempX)\n",
    "    y.append(a*tempX + b + noise)\n",
    "plt.scatter(x, y, color='black')\n",
    "plt.show()\n",
    "#\n",
    "# train a linear regression model\n",
    "X = 10 * np.random.rand(50, 1)\n",
    "Y = a * X + (b + np.random.randn(50, 1))\n",
    "plt.plot(X,Y,'b.')\n",
    "plt.show()\n",
    "lin_reg_mod = LinearRegression()\n",
    "lin_reg_mod.fit(X, Y)\n",
    "print(lin_reg_mod.intercept_)\n",
    "print(lin_reg_mod.coef_)\n",
    "\n",
    "\n"
   ]
  },
  {
   "cell_type": "code",
   "execution_count": 9,
   "metadata": {},
   "outputs": [
    {
     "data": {
      "text/plain": [
       "RangeIndex(start=0, stop=4, step=1)"
      ]
     },
     "execution_count": 9,
     "metadata": {},
     "output_type": "execute_result"
    }
   ],
   "source": []
  }
 ],
 "metadata": {
  "kernelspec": {
   "display_name": "Python 3",
   "language": "python",
   "name": "python3"
  },
  "language_info": {
   "codemirror_mode": {
    "name": "ipython",
    "version": 3
   },
   "file_extension": ".py",
   "mimetype": "text/x-python",
   "name": "python",
   "nbconvert_exporter": "python",
   "pygments_lexer": "ipython3",
   "version": "3.6.9"
  }
 },
 "nbformat": 4,
 "nbformat_minor": 4
}
